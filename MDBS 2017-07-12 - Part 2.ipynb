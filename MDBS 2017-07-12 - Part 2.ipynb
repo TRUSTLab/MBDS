{
 "cells": [
  {
   "cell_type": "code",
   "execution_count": 19,
   "metadata": {},
   "outputs": [
    {
     "name": "stdout",
     "output_type": "stream",
     "text": [
      "[{'Tables_in_mbdsdb': 'bigdatasurvey'}, {'Tables_in_mbdsdb': 't'}]\n"
     ]
    }
   ],
   "source": [
    "import pymysql.cursors\n",
    "\n",
    "connection = pymysql.connect(host='10.24.226.192',\n",
    "                             user='mbdsuser',\n",
    "                             password='mbds2017',\n",
    "                             db='mbdsdb',\n",
    "                             port=3306,\n",
    "                             cursorclass=pymysql.cursors.DictCursor)\n",
    "\n",
    "try:\n",
    "    with connection.cursor() as cursor:\n",
    "        sql = \"SHOW tables\"\n",
    "        cursor.execute(sql)\n",
    "        result = cursor.fetchall()\n",
    "        print(result)\n",
    "                \n",
    "#        sql = \"SHOW COLUMNS FROM bigdatasurvey\"\n",
    "#        cursor.execute(sql)\n",
    "#        result = cursor.fetchall()        \n",
    "#        print(type(result))\n",
    "        \n",
    "#        for item in result:\n",
    "#            print(item)\n",
    "        \n",
    "#        sql = \"INSERT INTO bigdatasurvey VALUES ('Eric Rozier', 1, 1, 1, 1, 1, 1, 1, 1, 1, 1, 1)\"\n",
    "#        cursor.execute(sql)\n",
    "        \n",
    "        connection.commit()\n",
    "\n",
    "finally:\n",
    "    connection.close()\n",
    "        "
   ]
  },
  {
   "cell_type": "code",
   "execution_count": null,
   "metadata": {},
   "outputs": [],
   "source": []
  }
 ],
 "metadata": {
  "kernelspec": {
   "display_name": "Python 3",
   "language": "python",
   "name": "python3"
  }
 },
 "nbformat": 4,
 "nbformat_minor": 2
}
